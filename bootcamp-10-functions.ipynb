{
 "cells": [
  {
   "cell_type": "markdown",
   "metadata": {},
   "source": [
    "<img style=\"float: left;\" src=\"earth-lab-logo-rgb.png\" width=\"150\" height=\"150\" />\n",
    "\n",
    "# Earth Analytics Education"
   ]
  },
  {
   "cell_type": "markdown",
   "metadata": {},
   "source": [
    "## Important  - Assignment Guidelines\n",
    "\n",
    "1. Before you submit your assignment to GitHub, make sure to run the entire notebook with a fresh kernel. To do this first, **restart the kernel** (in the menubar, select Kernel$\\rightarrow$Restart & Run All)\n",
    "2. Always replace the `raise NotImplementedError()` code with your code that addresses the activity challenge. If you don't replace that code, your notebook will not run.\n",
    "\n",
    "```\n",
    "# YOUR CODE HERE\n",
    "raise NotImplementedError()\n",
    "```\n",
    "\n",
    "3. Any open ended questions will have a \"YOUR ANSWER HERE\" within a markdown cell. Replace that text with your answer also formatted using Markdown.\n",
    "4. **DO NOT RENAME THIS NOTEBOOK File!** If the file name changes, the autograder will not grade your assignment properly.\n",
    "\n",
    "* Only include the package imports, code, and outputs that are required to run your homework assignment.\n",
    "* Be sure that your code can be run on any operating system. This means that:\n",
    "   1. the data should be downloaded in the notebook to ensure it's reproducible\n",
    "   2. all paths should be created dynamically using the `os.path.join`\n",
    "   3. sort lists of dated files even if they are sorted correctly by default on your machine\n",
    "\n",
    "## Follow to PEP 8 Syntax Guidelines & Documentation\n",
    "\n",
    "* Run the `autopep8` tool on all cells prior to submitting (HINT: hit shift + the tool to run it on all cells at once!\n",
    "* Use clear and expressive names for variables. \n",
    "* Organize your code to support readability.\n",
    "* Check for code line length\n",
    "* Use comments and white space sparingly where it is needed\n",
    "* Make sure all python imports are at the top of your notebook and follow PEP 8 order conventions\n",
    "* Spell check your Notebook before submitting it.\n",
    "\n",
    "For all of the plots below, be sure to do the following:\n",
    "\n",
    "* Make sure each plot has a clear TITLE and, where appropriate, label the x and y axes. Be sure to include UNITS in your labels.\n"
   ]
  },
  {
   "cell_type": "markdown",
   "metadata": {},
   "source": [
    "### Add Your Name Below \n",
    "**Your Name:**"
   ]
  },
  {
   "cell_type": "markdown",
   "metadata": {},
   "source": [
    "<img style=\"float: left;\" src=\"colored-bar.png\"/>"
   ]
  },
  {
   "cell_type": "markdown",
   "metadata": {},
   "source": [
    "---"
   ]
  },
  {
   "cell_type": "markdown",
   "metadata": {
    "deletable": false,
    "editable": false,
    "hideCode": false,
    "hidePrompt": false,
    "nbgrader": {
     "cell_type": "markdown",
     "checksum": "15030f3b2e57c5be67dc98acc33ccfb2",
     "grade": false,
     "grade_id": "hw-instructions",
     "locked": true,
     "schema_version": 3,
     "solution": false
    }
   },
   "source": [
    "# Modular Code: Post-fire change in LAI\n",
    "\n",
    "For this assignment, you will re-use the code and data sources from your analysis of the Leaf Area Index at the Thomas Fire site in CA. You will modularize your code using functions and objects. **Most of the code for this assignment can be copied directly over from the previous assignment!**\n",
    "\n",
    "Be sure to <a href=\"https://www.earthdatascience.org/courses/intro-to-earth-data-science/write-efficient-python-code/functions-modular-code/\" target=\"_blank\">review  the chapter on functions in the Intro to Earth Data Science online textbook</a> online textbook."
   ]
  },
  {
   "cell_type": "markdown",
   "metadata": {
    "deletable": false,
    "editable": false,
    "hideCode": false,
    "hidePrompt": false,
    "nbgrader": {
     "cell_type": "markdown",
     "checksum": "c7ca190e7e78c3d59c74ffa429b363ec",
     "grade": false,
     "grade_id": "psuedo-coding-instructions",
     "locked": true,
     "points": 15,
     "schema_version": 3,
     "solution": false,
     "task": true
    }
   },
   "source": [
    "## Practice Pseudo-coding\n",
    "\n",
    "In the cell below, write  pseudo code that outlines the steps needed to complete the following tasks:\n",
    "\n",
    "1. Download, cache, and import a fire perimeter\n",
    "2. Download, cache, and import the MODIS LAI data\n",
    "3. Repeat 1 and 2 with another fire\n",
    "4. Plot maps of the data.\n",
    "\n",
    "Do not use actual code to complete this task. Rather, write down each step using a markdown list. You may wish to turn your pseudocode into comments later on, but make sure to answer this question as well.\n",
    "\n",
    "As you are writing your pseudocode, consider how you could make each part of the workflow generic enough that you could run it for a different fire. What information do you need to look up about a second fire?"
   ]
  },
  {
   "cell_type": "markdown",
   "metadata": {
    "hideCode": false,
    "hidePrompt": false
   },
   "source": [
    "YOUR PSEUDOCODE HERE"
   ]
  },
  {
   "cell_type": "markdown",
   "metadata": {
    "deletable": false,
    "editable": false,
    "nbgrader": {
     "cell_type": "markdown",
     "checksum": "1b0c8169da68d1be2a33b7d2d2c4d2c3",
     "grade": false,
     "grade_id": "bar-1",
     "locked": true,
     "schema_version": 3,
     "solution": false,
     "task": false
    }
   },
   "source": [
    "<img style=\"float: left;\" src=\"colored-bar.png\"/>"
   ]
  },
  {
   "cell_type": "markdown",
   "metadata": {
    "deletable": false,
    "editable": false,
    "hideCode": false,
    "hidePrompt": false,
    "nbgrader": {
     "cell_type": "markdown",
     "checksum": "d65fed88814af4e0496c558f8314eaf6",
     "grade": false,
     "grade_id": "task-setup",
     "locked": true,
     "points": 5,
     "schema_version": 3,
     "solution": false,
     "task": true
    }
   },
   "source": [
    "## Step 0: Set up an interoperable analysis\n",
    "\n",
    "In the cell below:\n",
    "  1. Import the packages needed for this analysis\n",
    "  2. Set your working directory\n",
    "  3. Create download directories if necessary\n",
    "  \n",
    "**Please use the same directory structure as the previous assignment to make your code easier to reproduce for grading.**"
   ]
  },
  {
   "cell_type": "code",
   "execution_count": null,
   "metadata": {
    "deletable": false,
    "hideCode": false,
    "hidePrompt": false,
    "nbgrader": {
     "cell_type": "code",
     "checksum": "0552a107ac731cddc0c231a9178d1159",
     "grade": false,
     "grade_id": "ans-setup",
     "locked": false,
     "schema_version": 3,
     "solution": true,
     "task": false
    }
   },
   "outputs": [],
   "source": [
    "# YOUR CODE HERE\n",
    "raise NotImplementedError()"
   ]
  },
  {
   "cell_type": "code",
   "execution_count": null,
   "metadata": {
    "deletable": false,
    "editable": false,
    "nbgrader": {
     "cell_type": "code",
     "checksum": "47086d9b013561d443028736de0d2f35",
     "grade": true,
     "grade_id": "test-setup",
     "locked": true,
     "points": 10,
     "schema_version": 3,
     "solution": false,
     "task": false
    }
   },
   "outputs": [],
   "source": [
    "# Write code to a file for style testing\n",
    "# Set up qa testing\n",
    "from glob import glob\n",
    "import os\n",
    "import pathlib\n",
    "import re\n",
    "import subprocess\n",
    "\n",
    "\n",
    "class Assignment10Tester:\n",
    "    \"\"\"A class for running QA tests on notebook code.\"\"\"\n",
    "\n",
    "    dirct = os.path.join(\n",
    "        pathlib.Path.home(),\n",
    "        'earth-analytics',\n",
    "        'qa-10-functions')\n",
    "\n",
    "    def __init__(self, key, points):\n",
    "        \"\"\"Prepare to run QA tests on notebook code.\"\"\"\n",
    "        self.key = key\n",
    "        self.points = points\n",
    "        self.cell_path = os.path.join(self.dirct, 'cell-{}.py'.format(key))\n",
    "        self.all_path = os.path.join(self.dirct, 'all-{}.py'.format(key))\n",
    "        self.code = _ih[-2]\n",
    "        if not os.path.exists(self.dirct):\n",
    "            os.makedirs(self.dirct)\n",
    "\n",
    "        # Write the new code to a file\n",
    "        self.write_cell()\n",
    "        self.write_all()\n",
    "\n",
    "    def write_cell(self):\n",
    "        \"\"\"Write the cell to a file.\"\"\"\n",
    "        with open(self.cell_path, 'w') as cell_file:\n",
    "            cell_file.write(self.code)\n",
    "\n",
    "    def write_all(self):\n",
    "        \"\"\"Write all code so far to a file.\"\"\"\n",
    "        # Include all code so far for correct variable state\n",
    "        cell_paths = sorted(glob(os.path.join(self.dirct, 'cell-*')))\n",
    "        self.code_so_far = []\n",
    "        for cell_path in cell_paths:\n",
    "            with open(cell_path, 'r') as file:\n",
    "                self.code_so_far.append(file.read())\n",
    "            if cell_path == self.cell_path:\n",
    "                break\n",
    "        with open(self.all_path, 'w') as all_file:\n",
    "            all_file.write('\\n'.join(self.code_so_far))\n",
    "\n",
    "    def test(self, last=False):\n",
    "        \"\"\"Run QA tests on the cell.\"\"\"\n",
    "        # Run pydocstyle for docstrings on all code so far\n",
    "        print('#### pydocstyle warnings ####')\n",
    "        pydocstyle_out = subprocess.run(\n",
    "            ['pydocstyle', '--add-ignore', 'D100', '--count', self.all_path],\n",
    "            stdout=subprocess.PIPE).stdout.decode('ascii')\n",
    "        print(pydocstyle_out)\n",
    "\n",
    "        # Run flake8 on all code so far for PEP-8\n",
    "        print('\\n#### flake8 warnings ####')\n",
    "        ignore_flake8 = 'W292,E302' if last else 'W292,F401,E302'\n",
    "        flake8_out = subprocess.run(\n",
    "            ['flake8', '--ignore', ignore_flake8, '--count', self.all_path],\n",
    "            stdout=subprocess.PIPE).stdout.decode('ascii')\n",
    "        print(flake8_out)\n",
    "\n",
    "        warnings = 0\n",
    "        if pydocstyle_out is not None:\n",
    "            warnings += int(pydocstyle_out.splitlines()[-1])\n",
    "        if flake8_out is not None:\n",
    "            warnings += int(flake8_out.splitlines()[-1])\n",
    "\n",
    "        points = self.points - warnings\n",
    "        points = points if points > 0 else 0\n",
    "        print('You earned {} of {} points for good style'.format(\n",
    "            points, self.points))\n",
    "        return points\n",
    "\n",
    "\n",
    "# Initialize tester and test\n",
    "Assignment10Tester('01-setup', 10).test()"
   ]
  },
  {
   "cell_type": "markdown",
   "metadata": {
    "deletable": false,
    "editable": false,
    "nbgrader": {
     "cell_type": "markdown",
     "checksum": "77e615f3f49988d717e4468f04cd1bbf",
     "grade": false,
     "grade_id": "bar-2",
     "locked": true,
     "schema_version": 3,
     "solution": false,
     "task": false
    }
   },
   "source": [
    "<img style=\"float: left;\" src=\"colored-bar.png\"/>"
   ]
  },
  {
   "cell_type": "markdown",
   "metadata": {
    "deletable": false,
    "editable": false,
    "hideCode": false,
    "hidePrompt": false,
    "nbgrader": {
     "cell_type": "markdown",
     "checksum": "957d811ffc2f2cc0c27c6007389dcd81",
     "grade": false,
     "grade_id": "task-download-perimeter",
     "locked": true,
     "points": 10,
     "schema_version": 3,
     "solution": false,
     "task": true
    }
   },
   "source": [
    "## Step 1: Write a function to download a fire perimeter\n",
    "\n",
    "Your function should meet the following specification:\n",
    "  1. The function takes the following parameters:\n",
    "      * fire name\n",
    "      * fire year range\n",
    "      * fire state\n",
    "  2. The function returns:\n",
    "      * A GeoDataFrame with a single row containing the specified fire information\n",
    "  3. Use conditionals and variables to write an efficient and DRY function. In particular:\n",
    "      * cache your downloads\n",
    "      * use a variable for the file name so it only needs to be typed/generated once.\n",
    "\n",
    "Be sure to:\n",
    "  1. Test your function by downloading the Thomas Fire perimeter (like you did last week).\n",
    "  2. Write some code to visually demonstrate that your download was correct by printing or displaying something\n",
    "  3. Include a complete numpy-style docstring"
   ]
  },
  {
   "cell_type": "code",
   "execution_count": null,
   "metadata": {
    "deletable": false,
    "hideCode": false,
    "hidePrompt": false,
    "nbgrader": {
     "cell_type": "code",
     "checksum": "2faee65908cafec3be1cbf6db0503edd",
     "grade": false,
     "grade_id": "ans-download-perimeter-func",
     "locked": false,
     "schema_version": 3,
     "solution": true,
     "task": false
    }
   },
   "outputs": [],
   "source": [
    "# YOUR CODE HERE\n",
    "raise NotImplementedError()"
   ]
  },
  {
   "cell_type": "code",
   "execution_count": null,
   "metadata": {
    "deletable": false,
    "editable": false,
    "nbgrader": {
     "cell_type": "code",
     "checksum": "60ef60a40b2f85104d5ec917db7dda55",
     "grade": true,
     "grade_id": "test-download-perimeter",
     "locked": true,
     "points": 10,
     "schema_version": 3,
     "solution": false,
     "task": false
    }
   },
   "outputs": [],
   "source": [
    "# Initialize tester and test\n",
    "Assignment10Tester('02-download-perimeter', 10).test()"
   ]
  },
  {
   "cell_type": "markdown",
   "metadata": {
    "deletable": false,
    "editable": false,
    "nbgrader": {
     "cell_type": "markdown",
     "checksum": "745170d26b70a0b55bd8c66a6545fb1b",
     "grade": false,
     "grade_id": "task-download-modis-func",
     "locked": true,
     "points": 10,
     "schema_version": 3,
     "solution": false,
     "task": true
    }
   },
   "source": [
    "## Step 2: Download MODIS data\n",
    "\n",
    "Write a function (or better yet, several functions or subfunctions!) to download the MODIS data for a given fire perimeter. Your function should meet the following specifications:\n",
    "  1. The function takes the following parameters:\n",
    "      * The perimeter as a GeoDataFrame\n",
    "      * The start date of your analysis\n",
    "      * The end date of your analysis\n",
    "      * A tag (as a string) to use in your file and directory names (this should be 'thomas' for the Thomas Fire.)\n",
    "  2. The function returns:\n",
    "      * A single DataArray of the MODIS data\n",
    "  3. Use conditionals and variables to write an efficient and DRY function. In particular:\n",
    "      * Cache your downloads\n",
    "      * Use the tag in your file name so the function can be used for other fire perimeters\n",
    "      * Save the file name to a variable instead of generating it more than once\n",
    "      \n",
    "Be sure to:\n",
    "  1. Test your function by downloading the MODIS LAI data for the Thomas Fire perimeter (like you did last week).\n",
    "  2. Write some code to visually demonstrate that your download was correct by printing or displaying something.\n",
    "  3. Include a complete numpy-style docstring.\n",
    "  \n",
    "**OPTIONAL**: OPTIONAL: For 10 pts extra credit, write a **class** to download your data. It should contain the information needed for the download, and have a function to download all the data chunks - otherwise the design is up to you."
   ]
  },
  {
   "cell_type": "code",
   "execution_count": null,
   "metadata": {
    "deletable": false,
    "nbgrader": {
     "cell_type": "code",
     "checksum": "0ba7ae9210600f5225fae8d837ba87c5",
     "grade": false,
     "grade_id": "ans-download-modis-func",
     "locked": false,
     "schema_version": 3,
     "solution": true,
     "task": false
    }
   },
   "outputs": [],
   "source": [
    "# YOUR CODE HERE\n",
    "raise NotImplementedError()"
   ]
  },
  {
   "cell_type": "code",
   "execution_count": null,
   "metadata": {
    "deletable": false,
    "editable": false,
    "nbgrader": {
     "cell_type": "code",
     "checksum": "ec8f41d0a025b330e5afd09360a6b6ad",
     "grade": true,
     "grade_id": "test-download-modis-func",
     "locked": true,
     "points": 10,
     "schema_version": 3,
     "solution": false,
     "task": false
    }
   },
   "outputs": [],
   "source": [
    "# Initialize tester and test\n",
    "Assignment10Tester('03-download-modis', 10).test()"
   ]
  },
  {
   "cell_type": "markdown",
   "metadata": {
    "deletable": false,
    "editable": false,
    "nbgrader": {
     "cell_type": "markdown",
     "checksum": "1977d6323ab982211618ffce1ce04c1a",
     "grade": false,
     "grade_id": "image3",
     "locked": true,
     "schema_version": 3,
     "solution": false,
     "task": false
    }
   },
   "source": [
    "<img style=\"float: left;\" src=\"colored-bar.png\"/>"
   ]
  },
  {
   "cell_type": "markdown",
   "metadata": {
    "deletable": false,
    "editable": false,
    "hideCode": false,
    "hidePrompt": false,
    "nbgrader": {
     "cell_type": "markdown",
     "checksum": "abde9151bd1f18db79664ac6d3f20445",
     "grade": false,
     "grade_id": "csv-function-in-workflow-instruction-2",
     "locked": true,
     "schema_version": 3,
     "solution": false,
     "task": false
    }
   },
   "source": [
    "## Step 3: Repeat the analysis for a fire of your choice\n",
    "\n",
    "Select another US fire that exists in both the fire perimeter database and the MODIS LAI record. Use the functions and/or classes you defined to download and import your data."
   ]
  },
  {
   "cell_type": "markdown",
   "metadata": {
    "deletable": false,
    "editable": false,
    "nbgrader": {
     "cell_type": "markdown",
     "checksum": "9dedbf5c71eae38fd2e46e124d409846",
     "grade": false,
     "grade_id": "cell-8e63d32bdd075004",
     "locked": true,
     "points": 5,
     "schema_version": 3,
     "solution": false,
     "task": true
    }
   },
   "source": [
    "### Write a site description for your second fire in the cell below\n"
   ]
  },
  {
   "cell_type": "markdown",
   "metadata": {},
   "source": []
  },
  {
   "cell_type": "markdown",
   "metadata": {
    "deletable": false,
    "editable": false,
    "nbgrader": {
     "cell_type": "markdown",
     "checksum": "80a1e311b284cd987305bc6a35c31dec",
     "grade": false,
     "grade_id": "task-download-second",
     "locked": true,
     "points": 10,
     "schema_version": 3,
     "solution": false,
     "task": true
    }
   },
   "source": [
    "### Use your functions to download and import data from your second fire\n",
    "\n",
    "You've already done all the work here! This response should be 2-4 lines long."
   ]
  },
  {
   "cell_type": "code",
   "execution_count": null,
   "metadata": {
    "deletable": false,
    "hideCode": false,
    "hidePrompt": false,
    "nbgrader": {
     "cell_type": "code",
     "checksum": "369f5f8a7f7d3952323f91e7a56dddb3",
     "grade": false,
     "grade_id": "ans-download-second",
     "locked": false,
     "schema_version": 3,
     "solution": true,
     "task": false
    }
   },
   "outputs": [],
   "source": [
    "# YOUR CODE HERE\n",
    "raise NotImplementedError()"
   ]
  },
  {
   "cell_type": "code",
   "execution_count": null,
   "metadata": {
    "deletable": false,
    "editable": false,
    "nbgrader": {
     "cell_type": "code",
     "checksum": "05cda57cdc20ba937968dfa65a0a43f0",
     "grade": true,
     "grade_id": "test-download-modis",
     "locked": true,
     "points": 10,
     "schema_version": 3,
     "solution": false,
     "task": false
    }
   },
   "outputs": [],
   "source": [
    "# Initialize tester and test\n",
    "Assignment10Tester('04-download-second', 10).test()"
   ]
  },
  {
   "cell_type": "markdown",
   "metadata": {
    "deletable": false,
    "editable": false,
    "nbgrader": {
     "cell_type": "markdown",
     "checksum": "2c475d632c7224c2f12fec472bd5dfdd",
     "grade": false,
     "grade_id": "bar-4",
     "locked": true,
     "schema_version": 3,
     "solution": false,
     "task": false
    }
   },
   "source": [
    "<img style=\"float: left;\" src=\"colored-bar.png\"/>"
   ]
  },
  {
   "cell_type": "markdown",
   "metadata": {
    "deletable": false,
    "editable": false,
    "hideCode": false,
    "hidePrompt": false,
    "nbgrader": {
     "cell_type": "markdown",
     "checksum": "89f09f8aa5d7b2ae55adec198da4ffc7",
     "grade": false,
     "grade_id": "task-plot-func",
     "locked": true,
     "points": 10,
     "schema_version": 3,
     "solution": false,
     "task": true
    }
   },
   "source": [
    "## Step 4: Plot your results\n",
    "\n",
    "Write a function that plots a map including LAI and the downloaded fire perimeter with the following specification:\n",
    "  1. The function should take the following parameters:\n",
    "      * Fire display name\n",
    "      * Fire perimeter GeoDataFrame\n",
    "      * LAI DataArray\n",
    "      * Date\n",
    "      * Before or after (boolean)\n",
    "      * axes\n",
    "  2. The function should return:\n",
    "      * axes, with the image of LAI and the fire perimeter displayed\n",
    "      \n",
    "Be sure to:\n",
    "  1. Test your code by producing a plot with it\n",
    "  2. Write the function so that it could be used to plot on a multi-panel figure\n",
    "  3. Include a complete numpy-style docstring"
   ]
  },
  {
   "cell_type": "code",
   "execution_count": null,
   "metadata": {
    "deletable": false,
    "hideCode": false,
    "hidePrompt": false,
    "nbgrader": {
     "cell_type": "code",
     "checksum": "63f4052e3b5b4e91cc0f39bce3371edc",
     "grade": false,
     "grade_id": "ans-plot-func",
     "locked": false,
     "schema_version": 3,
     "solution": true,
     "task": false
    }
   },
   "outputs": [],
   "source": [
    "# YOUR CODE HERE\n",
    "raise NotImplementedError()"
   ]
  },
  {
   "cell_type": "code",
   "execution_count": null,
   "metadata": {
    "deletable": false,
    "editable": false,
    "nbgrader": {
     "cell_type": "code",
     "checksum": "413be0351151246071a53b34b86bb888",
     "grade": true,
     "grade_id": "test-plot",
     "locked": true,
     "points": 10,
     "schema_version": 3,
     "solution": false,
     "task": false
    }
   },
   "outputs": [],
   "source": [
    "# Initialize tester and test\n",
    "Assignment10Tester('04-plot', 10).test()"
   ]
  },
  {
   "cell_type": "markdown",
   "metadata": {
    "deletable": false,
    "editable": false,
    "nbgrader": {
     "cell_type": "markdown",
     "checksum": "5c85933d8a24e8145a4986f0253db1c6",
     "grade": false,
     "grade_id": "bar-5",
     "locked": true,
     "schema_version": 3,
     "solution": false,
     "task": false
    }
   },
   "source": [
    "<img style=\"float: left;\" src=\"colored-bar.png\"/>"
   ]
  },
  {
   "cell_type": "markdown",
   "metadata": {
    "deletable": false,
    "editable": false,
    "hideCode": false,
    "hidePrompt": false,
    "nbgrader": {
     "cell_type": "markdown",
     "checksum": "a0e78593d7c0f61a90a3c18ee1257435",
     "grade": false,
     "grade_id": "task-plot",
     "locked": true,
     "points": 10,
     "schema_version": 3,
     "solution": false,
     "task": true
    }
   },
   "source": [
    "## Use your function to generate a multi-panel figure\n",
    "\n",
    "In the cell below, use your plotting function to generate a four-panel figure showing the Thomas fire and your chosen fire both before and after the fire.\n",
    "\n",
    "Make sure to:\n",
    "  1. Label the plot appropriately\n",
    "  2. Use a legible font size and colors\n",
    "  \n",
    "**OPTIONAL:** For 5 points extra credit, use a `for` loop as well as your function to make this plot"
   ]
  },
  {
   "cell_type": "code",
   "execution_count": null,
   "metadata": {
    "deletable": false,
    "hideCode": false,
    "hidePrompt": false,
    "nbgrader": {
     "cell_type": "code",
     "checksum": "70affa80b4074f3f5a1382f6abf6f625",
     "grade": false,
     "grade_id": "student-loop-function-workflow",
     "locked": false,
     "schema_version": 3,
     "solution": true,
     "task": false
    }
   },
   "outputs": [],
   "source": [
    "# YOUR CODE HERE\n",
    "raise NotImplementedError()"
   ]
  },
  {
   "cell_type": "code",
   "execution_count": null,
   "metadata": {
    "deletable": false,
    "editable": false,
    "nbgrader": {
     "cell_type": "code",
     "checksum": "652af80b13e2102efd4876ab9bc11761",
     "grade": true,
     "grade_id": "test-multi-panel",
     "locked": true,
     "points": 5,
     "schema_version": 3,
     "solution": false,
     "task": false
    }
   },
   "outputs": [],
   "source": [
    "# Initialize tester and test\n",
    "# flake8 will misread rioxarray - returning one point\n",
    "# The points message will be one point off\n",
    "Assignment10Tester('05-multi-panel', 5).test(last=True) + 1"
   ]
  },
  {
   "cell_type": "markdown",
   "metadata": {
    "deletable": false,
    "editable": false,
    "nbgrader": {
     "cell_type": "markdown",
     "checksum": "c5900e195b259699d25c7227993297de",
     "grade": false,
     "grade_id": "image6",
     "locked": true,
     "schema_version": 3,
     "solution": false,
     "task": false
    }
   },
   "source": [
    "<img style=\"float: left;\" src=\"colored-bar.png\"/>"
   ]
  },
  {
   "cell_type": "markdown",
   "metadata": {
    "deletable": false,
    "editable": false,
    "nbgrader": {
     "cell_type": "markdown",
     "checksum": "2d4ed7b6f9af36b8ab770006e1369033",
     "grade": false,
     "grade_id": "task-cite",
     "locked": true,
     "points": 10,
     "schema_version": 3,
     "solution": false,
     "task": true
    }
   },
   "source": [
    "## Cite your data\n",
    "In the cell below, include citations and any other information that someone would need to use your code to download these data."
   ]
  },
  {
   "cell_type": "markdown",
   "metadata": {},
   "source": [
    "YOUR ANSWER HERE"
   ]
  },
  {
   "cell_type": "markdown",
   "metadata": {
    "deletable": false,
    "editable": false,
    "hideCode": false,
    "hidePrompt": false,
    "nbgrader": {
     "cell_type": "markdown",
     "checksum": "dd1519a00b5060fac2aea3b75aebafa3",
     "grade": false,
     "grade_id": "pep-spelling-tests",
     "locked": true,
     "points": 10,
     "schema_version": 3,
     "solution": false,
     "task": true
    }
   },
   "source": [
    "## Is your notebook reproducible?\n",
    "\n",
    "Make sure to restart and run all!"
   ]
  }
 ],
 "metadata": {
  "hide_code_all_hidden": false,
  "kernelspec": {
   "display_name": "Python 3 (ipykernel)",
   "language": "python",
   "name": "python3"
  },
  "language_info": {
   "codemirror_mode": {
    "name": "ipython",
    "version": 3
   },
   "file_extension": ".py",
   "mimetype": "text/x-python",
   "name": "python",
   "nbconvert_exporter": "python",
   "pygments_lexer": "ipython3",
   "version": "3.8.13"
  },
  "toc": {
   "base_numbering": 1,
   "nav_menu": {},
   "number_sections": true,
   "sideBar": true,
   "skip_h1_title": false,
   "title_cell": "Table of Contents",
   "title_sidebar": "Contents",
   "toc_cell": false,
   "toc_position": {},
   "toc_section_display": true,
   "toc_window_display": true
  },
  "varInspector": {
   "cols": {
    "lenName": 16,
    "lenType": 16,
    "lenVar": 40
   },
   "kernels_config": {
    "python": {
     "delete_cmd_postfix": "",
     "delete_cmd_prefix": "del ",
     "library": "var_list.py",
     "varRefreshCmd": "print(var_dic_list())"
    },
    "r": {
     "delete_cmd_postfix": ") ",
     "delete_cmd_prefix": "rm(",
     "library": "var_list.r",
     "varRefreshCmd": "cat(var_dic_list()) "
    }
   },
   "types_to_exclude": [
    "module",
    "function",
    "builtin_function_or_method",
    "instance",
    "_Feature"
   ],
   "window_display": false
  }
 },
 "nbformat": 4,
 "nbformat_minor": 4
}
